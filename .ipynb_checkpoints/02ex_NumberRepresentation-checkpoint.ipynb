{
 "cells": [
  {
   "cell_type": "markdown",
   "metadata": {},
   "source": [
    "1\\. Write a function that converts number representation, bin<->dec<->hex. (Clearly using the corresponding python built-in functions is not fair..)"
   ]
  },
  {
   "cell_type": "code",
   "execution_count": 6,
   "metadata": {},
   "outputs": [
    {
     "name": "stdout",
     "output_type": "stream",
     "text": [
      "31 dec\n",
      "1F hex\n",
      "Done\n"
     ]
    }
   ],
   "source": [
    "def bindec(x):\n",
    "    y=0\n",
    "    n=len(str((x)))-1\n",
    "    for i in str(x):\n",
    "        if(i=='1'):\n",
    "            y+=2**n\n",
    "        n-=1     \n",
    "    return y    \n",
    "\n",
    "def decbin(x):\n",
    "    b=[]\n",
    "    while(x!=0):\n",
    "        if(x%2==0): \n",
    "            b+=[0]\n",
    "            x=x/2\n",
    "        else: \n",
    "            b+=[1]\n",
    "            x=(x-1)/2  \n",
    "    b.reverse()\n",
    "    f=0\n",
    "    for i in range(0,len(b)):\n",
    "        f+=b[i]*10**(len(b)-1-i)    \n",
    "    return f   \n",
    "\n",
    "def dechex(x):\n",
    "    r=''\n",
    "    n=0\n",
    "    y=str(decbin(x))  \n",
    "    y1=list(y)\n",
    "    y1.reverse()\n",
    "    while(len(y1)%4!=0):\n",
    "        y1.append(0)\n",
    "    y1.reverse()\n",
    "    j=3\n",
    "    for i in range(0,len(y1)):\n",
    "        n+=int(y1[i])*2**(j) \n",
    "        j-=1\n",
    "        if(j==-1): \n",
    "                j=3\n",
    "                if(n==10):\n",
    "                    r=r+'A' \n",
    "                if(n==11): \n",
    "                    r=r+'B' \n",
    "                if(n==12):\n",
    "                    r=r+'C' \n",
    "                if(n==13):\n",
    "                    r=r+'D' \n",
    "                if(n==14):\n",
    "                    r=r+'E' \n",
    "                if(n==15):\n",
    "                    r=r+'F'\n",
    "                elif(n<10): r=r+str(n) \n",
    "                n=0          \n",
    "    return r     \n",
    "\n",
    "def hexdec(x):\n",
    "    d=0\n",
    "    for i in range(0,len(x)):\n",
    "        r=0\n",
    "        if(x[i]=='A'):\n",
    "            r=10 \n",
    "        elif(x[i]=='B'): \n",
    "            r=11 \n",
    "        elif(x[i]=='C'):\n",
    "            r=12 \n",
    "        elif(x[i]=='D'):\n",
    "            r=13\n",
    "        elif(x[i]=='E'):\n",
    "            r=14 \n",
    "        elif(x[i]=='F'):\n",
    "            r=15\n",
    "        else:\n",
    "            r=int(x[i])\n",
    "        d+=r*16**(len(x)-1-i)    \n",
    "    return d       \n",
    "\n",
    "\n",
    "\n",
    "def conv(x,f):\n",
    "    if(f=='b'):\n",
    "        print(bindec(x),\"dec\")\n",
    "        print(dechex(bindec(x)),\"hex\")\n",
    "    elif(f=='d'):\n",
    "        print(dechex(x),\"hex\")\n",
    "        print(decbin(x),\"bin\")\n",
    "    elif(f=='h'):\n",
    "        print(hexdec(x),\"dec\")\n",
    "        print(decbin(hexdec(x)),\"bin\")    \n",
    "    return \"Done\"\n",
    "        \n",
    "        \n",
    "print(conv(11111,'b'))            "
   ]
  },
  {
   "cell_type": "markdown",
   "metadata": {},
   "source": [
    "2\\. Write a function that converts a 32 bit word into a single precision floating point (i.e. interprets the various bits as sign, mantissa and exponent)"
   ]
  },
  {
   "cell_type": "code",
   "execution_count": 49,
   "metadata": {},
   "outputs": [
    {
     "name": "stdout",
     "output_type": "stream",
     "text": [
      "-5.5\n"
     ]
    }
   ],
   "source": [
    "def convword32(x):\n",
    "    s1=str(x)\n",
    "    m=0\n",
    "    e=0\n",
    "    s=list(s1)\n",
    "    s.reverse()\n",
    "    for i in range(0,len(s)):\n",
    "        if(i<23):\n",
    "            if(s[i]=='1'):\n",
    "                m+=2**(i-23)\n",
    "        elif(23<=i<31):\n",
    "            if(s[i]=='1'): \n",
    "                e+=2**(i-23)   \n",
    "    n=(1+m)*2**(e-127)\n",
    "    if(s[31]=='1'):\n",
    "        n=-1*n\n",
    "    return n    \n",
    "\n",
    "        \n",
    "x='11000000101100000000000000000000'\n",
    "\n",
    "\n",
    "print(convword32(x))        \n",
    "\n"
   ]
  },
  {
   "cell_type": "markdown",
   "metadata": {},
   "source": [
    "3\\. Write a program to determine the underflow and overflow limits (within a factor of 2) for python on your computer. \n",
    "\n",
    "**Tips**: define two variables inizialized to 1 and halve/double them enough time to exceed the under/over-flow limits  "
   ]
  },
  {
   "cell_type": "code",
   "execution_count": 11,
   "metadata": {},
   "outputs": [
    {
     "name": "stdout",
     "output_type": "stream",
     "text": [
      "The last number before underflow is  5e-324\n",
      "The last number before overflow is  8.98846567431158e+307\n"
     ]
    }
   ],
   "source": [
    "def overflow():\n",
    "    x=0\n",
    "    y=1\n",
    "    try:\n",
    "        while(x!=y):\n",
    "          y=2*y\n",
    "          x=y/2\n",
    "    except:\n",
    "        print(\"The last number before overflow is \", x)\n",
    "\n",
    "        \n",
    "def underflow():\n",
    "    x=0.0\n",
    "    y=1.0\n",
    "    while(y!=0):\n",
    "          x=y\n",
    "          y=y/2\n",
    "    print(\"The last number before underflow is \", x)\n",
    "    return x\n",
    "    \n",
    "underflow()\n",
    "overflow()\n",
    "   "
   ]
  },
  {
   "cell_type": "markdown",
   "metadata": {},
   "source": [
    "4\\. Write a program to determine the machine precision\n",
    "\n",
    "**Tips**: define a new variable by adding a smaller and smaller value (proceeding similarly to prob. 2) to an original variable and check the point where the two are the same "
   ]
  },
  {
   "cell_type": "code",
   "execution_count": 22,
   "metadata": {},
   "outputs": [
    {
     "name": "stdout",
     "output_type": "stream",
     "text": [
      "The precision in respect of input value  0.1 is  6.938893903907228e-18\n"
     ]
    }
   ],
   "source": [
    "def pre(x):\n",
    "    n=1\n",
    "    y=0\n",
    "    while(x!=y):    \n",
    "        n+=1\n",
    "        y=x+(1/2)**n\n",
    "    print(\"The precision in respect of input value \",x,\"is \",(1/2)**n)\n",
    "\n",
    "pre(0.1)    \n",
    "    "
   ]
  },
  {
   "cell_type": "markdown",
   "metadata": {},
   "source": [
    "5\\. Write a function that takes in input three parameters $a$, $b$ and $c$ and prints out the two solutions to the quadratic equation $ax^2+bx+c=0$ using the standard formula:\n",
    "$$\n",
    "x=\\frac{-b\\pm\\sqrt{b^2-4ac}}{2a}\n",
    "$$\n",
    "\n",
    "(a) use the program to compute the solution for $a=0.001$, $b=1000$ and $c=0.001$\n",
    "\n",
    "(b) re-express the standard solution formula by multiplying top and bottom by $-b\\mp\\sqrt{b^2-4ac}$ and again find the solution for $a=0.001$, $b=1000$ and $c=0.001$. How does it compare with what previously obtained? Why?\n",
    "\n",
    "(c) write a function that compute the roots of a quadratic equation accurately in all cases"
   ]
  },
  {
   "cell_type": "code",
   "execution_count": 30,
   "metadata": {},
   "outputs": [
    {
     "name": "stdout",
     "output_type": "stream",
     "text": [
      "-9.999894245993346e-07 -999999.999999\n",
      "-9.999894245993346e-07 -999999.9999989999\n"
     ]
    }
   ],
   "source": [
    "def roots(a,b,c):\n",
    "    r1=0\n",
    "    r2=0\n",
    "    r1=(-b+pow(pow(b,2)-4*a*c,1/2))/(2*a)\n",
    "    r2=(-b-pow(pow(b,2)-4*a*c,1/2))/(2*a)\n",
    "    print(r1,r2)\n",
    "    \n",
    "def roots2(a,b,c):\n",
    "    r1=0\n",
    "    r2=0\n",
    "    r1=(-b+pow(pow(b,2)-4*a*c,1/2))/(2*a)*(-b-pow(pow(b,2)-4*a*c,1/2))/(-b-pow(pow(b,2)-4*a*c,1/2))\n",
    "    r2=(-b-pow(pow(b,2)-4*a*c,1/2))/(2*a)*(-b+pow(pow(b,2)-4*a*c,1/2))/(-b+pow(pow(b,2)-4*a*c,1/2))\n",
    "    print(r1,r2)    \n",
    "    \n",
    "roots(0.001,1000,0.001)    \n",
    "roots2(0.001,1000,0.001)    "
   ]
  },
  {
   "cell_type": "markdown",
   "metadata": {},
   "source": [
    "6\\. Write a program that implements the function $f(x)=x(x−1)$\n",
    "\n",
    "(a) Calculate the derivative of the function at the point $x = 1$ using the derivative definition:\n",
    "\n",
    "$$\n",
    "\\frac{{\\rm d}f}{{\\rm d}x} = \\lim_{\\delta\\to0} \\frac{f(x+\\delta)-f(x)}{\\delta}\n",
    "$$\n",
    "\n",
    "with $\\delta = 10^{−2}$. Calculate the true value of the same derivative analytically and compare with the answer your program gives. The two will not agree perfectly. Why not?\n",
    "\n",
    "(b) Repeat the calculation for $\\delta = 10^{−4}, 10^{−6}, 10^{−8}, 10^{−10}, 10^{−12}$ and $10^{−14}$. How does the accuracy scales with $\\delta$?"
   ]
  },
  {
   "cell_type": "code",
   "execution_count": 43,
   "metadata": {},
   "outputs": [
    {
     "name": "stdout",
     "output_type": "stream",
     "text": [
      "1.010000000000001\n",
      "1.0009999999998895\n",
      "1.0000999999998899\n",
      "1.0000100000065513\n",
      "1.0000009999177333\n",
      "1.0000001005838672\n",
      "1.0000000039225287\n",
      "1.000000083740371\n",
      "1.000000082840371\n",
      "1.000000082750371\n",
      "1.0000889005833413\n",
      "0.9992007221627407\n",
      "0.9992007221626509\n"
     ]
    }
   ],
   "source": [
    "def func(x):\n",
    "    return x*(x-1)\n",
    "\n",
    "def deriv(x,delta):\n",
    "    return (func(x+delta)-func(x))/delta\n",
    "\n",
    "for i in range(2,15):\n",
    "    print(deriv(1,10**(-i)))"
   ]
  },
  {
   "cell_type": "markdown",
   "metadata": {},
   "source": [
    "7\\. Consider the integral of the semicircle of radius 1:\n",
    "$$\n",
    "I=\\int_{-1}^{1} \\sqrt(1-x^2) {\\rm d}x\n",
    "$$\n",
    "which it's known to be $I=\\frac{\\pi}{2}=1.57079632679...$.\n",
    "Alternatively we can use the Riemann definition of the integral:\n",
    "$$\n",
    "I=\\lim_{N\\to\\infty} \\sum_{k=1}^{N} h y_k \n",
    "$$\n",
    "\n",
    "with $h=2/N$ the width of each of the $N$ slices the domain is divided into and where\n",
    "$y_k$ is the value of the function at the $k-$th slice.\n",
    "\n",
    "(a) Write a programe to compute the integral with $N=100$. How does the result compares to the true value?\n",
    "\n",
    "(b) How much can $N$ be increased if the computation needs to be run in less than a second? What is the gain in running it for 1 minute? \n"
   ]
  },
  {
   "cell_type": "code",
   "execution_count": 62,
   "metadata": {},
   "outputs": [
    {
     "name": "stdout",
     "output_type": "stream",
     "text": [
      "Execution time: 4.59895396232605\n",
      "Integral: 1.5707963267423612\n",
      "Diff: -5.253530943605256e-11\n"
     ]
    }
   ],
   "source": [
    "import time\n",
    "import math\n",
    "\n",
    "def f(x):\n",
    "    return pow(1-pow(x,2),1/2)\n",
    "    \n",
    "def integral(a,b,f,n):\n",
    "    st=time.time()\n",
    "    h=(b-a)/n\n",
    "    I=0\n",
    "    for i in range(0,n+1):\n",
    "        I+=f(a+h*i)*h\n",
    "    et=time.time()\n",
    "    print(\"Execution time:\",et-st)\n",
    "    print(\"Integral:\",I)\n",
    "    return I\n",
    "    \n",
    "i=integral(-1,1,f,10000000) \n",
    "print(\"Diff:\",i-math.pi/2)"
   ]
  }
 ],
 "metadata": {
  "kernelspec": {
   "display_name": "Python 3 (ipykernel)",
   "language": "python",
   "name": "python3"
  },
  "language_info": {
   "codemirror_mode": {
    "name": "ipython",
    "version": 3
   },
   "file_extension": ".py",
   "mimetype": "text/x-python",
   "name": "python",
   "nbconvert_exporter": "python",
   "pygments_lexer": "ipython3",
   "version": "3.10.4"
  }
 },
 "nbformat": 4,
 "nbformat_minor": 2
}
