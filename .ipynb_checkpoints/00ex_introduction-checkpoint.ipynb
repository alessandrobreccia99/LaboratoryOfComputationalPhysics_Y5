{
 "cells": [
  {
   "cell_type": "markdown",
   "metadata": {},
   "source": [
    "1. The MickeyMouse problem\n",
    "\n",
    "a) Write a program that prints the numbers from 1 to 100. But for multiples of 3 print `Mickey` instead of the corresponding number and for the multiples of 5 print `Mouse`. For numbers which are multiples of both three and five print `MickeyMouse`\n",
    "\n",
    "b) Put the result in a tuple and substitute `Mickey` with `Donald` and `Mouse` with `Duck`"
   ]
  },
  {
   "cell_type": "code",
   "execution_count": 13,
   "metadata": {},
   "outputs": [
    {
     "name": "stdout",
     "output_type": "stream",
     "text": [
      "[1, 2, 'Mickey', 4, 'Mouse', 'Mickey', 7, 8, 'Mickey', 'Mouse', 11, 'Mickey', 13, 14, 'MickeyMouse', 16, 17, 'Mickey', 19, 'Mouse', 'Mickey', 22, 23, 'Mickey', 'Mouse', 26, 'Mickey', 28, 29, 'MickeyMouse', 31, 32, 'Mickey', 34, 'Mouse', 'Mickey', 37, 38, 'Mickey', 'Mouse', 41, 'Mickey', 43, 44, 'MickeyMouse', 46, 47, 'Mickey', 49, 'Mouse', 'Mickey', 52, 53, 'Mickey', 'Mouse', 56, 'Mickey', 58, 59, 'MickeyMouse', 61, 62, 'Mickey', 64, 'Mouse', 'Mickey', 67, 68, 'Mickey', 'Mouse', 71, 'Mickey', 73, 74, 'MickeyMouse', 76, 77, 'Mickey', 79, 'Mouse', 'Mickey', 82, 83, 'Mickey', 'Mouse', 86, 'Mickey', 88, 89, 'MickeyMouse', 91, 92, 'Mickey', 94, 'Mouse', 'Mickey', 97, 98, 'Mickey', 'Mouse']\n",
      "(1, 2, 'Donald', 4, 'Duck', 'Donald', 7, 8, 'Donald', 'Duck', 11, 'Donald', 13, 14, 'DonaldDuck', 16, 17, 'Donald', 19, 'Duck', 'Donald', 22, 23, 'Donald', 'Duck', 26, 'Donald', 28, 29, 'DonaldDuck', 31, 32, 'Donald', 34, 'Duck', 'Donald', 37, 38, 'Donald', 'Duck', 41, 'Donald', 43, 44, 'DonaldDuck', 46, 47, 'Donald', 49, 'Duck', 'Donald', 52, 53, 'Donald', 'Duck', 56, 'Donald', 58, 59, 'DonaldDuck', 61, 62, 'Donald', 64, 'Duck', 'Donald', 67, 68, 'Donald', 'Duck', 71, 'Donald', 73, 74, 'DonaldDuck', 76, 77, 'Donald', 79, 'Duck', 'Donald', 82, 83, 'Donald', 'Duck', 86, 'Donald', 88, 89, 'DonaldDuck', 91, 92, 'Donald', 94, 'Duck', 'Donald', 97, 98, 'Donald', 'Duck')\n"
     ]
    }
   ],
   "source": [
    "result=[]\n",
    "\n",
    "for x in range(1,101):\n",
    "    if (x%3==0 and x%5==0):\n",
    "        result+=[\"MickeyMouse\"]     \n",
    "    elif (x%5==0): \n",
    "        result+=[\"Mouse\"]\n",
    "    elif (x%3==0): \n",
    "        result+=[\"Mickey\"]\n",
    "    else :\n",
    "        result+=[x]\n",
    "        \n",
    "print(result)\n",
    "\n",
    "for i in range(1,len(result)):\n",
    "    if (result[i]==\"MickeyMouse\"):\n",
    "           result[i]=\"DonaldDuck\" \n",
    "    elif (result[i]==\"Mouse\"): \n",
    "           result[i]=\"Duck\" \n",
    "    elif (result[i]==\"Mickey\"): \n",
    "           result[i]=\"Donald\" \n",
    "\n",
    "resultt=tuple(result)\n",
    "print(resultt)\n",
    "  \n",
    " "
   ]
  },
  {
   "cell_type": "markdown",
   "metadata": {},
   "source": [
    "2\\. The swap function\n",
    "\n",
    "Write a function that swap the values of two input variables x and y (whatever the type). Try to do that also without a temporary variable"
   ]
  },
  {
   "cell_type": "code",
   "execution_count": 28,
   "metadata": {},
   "outputs": [
    {
     "name": "stdout",
     "output_type": "stream",
     "text": [
      "insert x 2\n",
      "insert y 3\n",
      "3\n",
      "2\n"
     ]
    }
   ],
   "source": [
    "def swap(x,y):\n",
    "    t=0\n",
    "    t=x\n",
    "    x=y\n",
    "    y=t\n",
    "    return x,y\n",
    "def swap2(x,y):\n",
    "    x,y=y,x\n",
    "    return x,y\n",
    "\n",
    "x=input(\"insert x \")\n",
    "y=input(\"insert y \")\n",
    "\n",
    "x,y=swap2(x,y)\n",
    "\n",
    "print(x)\n",
    "print(y)\n",
    "\n",
    "\n"
   ]
  },
  {
   "cell_type": "markdown",
   "metadata": {},
   "source": [
    "3\\. Computing the distance\n",
    "\n",
    "Write a function that calculates and returns the euclidean distance between two points *u* and *v*, where *u* and *v* are both 2-tuples *(x,y)*. For example, if *u=(3,0)* and *v=(0,4)*, the function should return 5"
   ]
  },
  {
   "cell_type": "code",
   "execution_count": 35,
   "metadata": {},
   "outputs": [
    {
     "name": "stdout",
     "output_type": "stream",
     "text": [
      "5.0\n"
     ]
    }
   ],
   "source": [
    "def norm(a,b):\n",
    "     d=pow((pow((a[0]-b[0]),2)+pow(a[1]-b[1],2)),0.5)\n",
    "     return d\n",
    "\n",
    "u=(3,0)\n",
    "v=(0,4)\n",
    "\n",
    "print(norm(u,v))\n"
   ]
  },
  {
   "cell_type": "markdown",
   "metadata": {},
   "source": [
    "4\\. Counting letters\n",
    "\n",
    "Write a program to calculate the number of times each character occurs in a given string *s*. Ignore differneces in capitalization"
   ]
  },
  {
   "cell_type": "code",
   "execution_count": 45,
   "metadata": {},
   "outputs": [
    {
     "name": "stdout",
     "output_type": "stream",
     "text": [
      "W 1\n",
      "b 4\n",
      "  41\n",
      "h 9\n",
      "s 9\n",
      "u 9\n",
      "w 1\n",
      "y 2\n",
      "m 8\n",
      "0 2\n",
      "r 17\n",
      "M 4\n",
      ". 2\n",
      "o 13\n",
      "l 6\n",
      "a 7\n",
      "e 22\n",
      "i 14\n",
      "B 1\n",
      "1 2\n",
      "g 1\n",
      "p 8\n",
      "d 3\n",
      "F 1\n",
      "f 9\n",
      "t 19\n",
      "c 3\n",
      "n 10\n",
      "v 2\n",
      "k 2\n"
     ]
    }
   ],
   "source": [
    "def numcar(s):\n",
    "     s.lower()\n",
    "     s1=set(s)\n",
    "     for j in s1: \n",
    "        num=s.count(j)\n",
    "        print(j,num)\n",
    "            \n",
    "s=\"Write a program that prints the numbers from 1 to 100. \\\n",
    "But for multiples of three print Mickey instead of the number and for the multiples of five print Mouse. \\\n",
    "For numbers which are multiples of both three and five print MickeyMouse\"\n",
    "            \n",
    "numcar(s)        "
   ]
  },
  {
   "cell_type": "markdown",
   "metadata": {},
   "source": [
    "5\\. Isolating the unique\n",
    "\n",
    "Write a function that determines and count the unique numbers in the list *l*"
   ]
  },
  {
   "cell_type": "code",
   "execution_count": 56,
   "metadata": {},
   "outputs": [
    {
     "name": "stdout",
     "output_type": "stream",
     "text": [
      "1\n",
      "99\n",
      "5\n",
      "8\n",
      "9\n",
      "10\n",
      "16\n",
      "18\n",
      "19\n",
      "24\n",
      "30\n",
      "33\n",
      "37\n",
      "39\n",
      "41\n",
      "47\n",
      "53\n",
      "54\n",
      "55\n",
      "57\n",
      "58\n",
      "64\n",
      "72\n",
      "74\n",
      "75\n",
      "79\n",
      "81\n",
      "82\n",
      "86\n",
      "87\n",
      "88\n",
      "90\n",
      "92\n",
      "94\n",
      "95\n",
      "96\n",
      "98\n",
      "37\n"
     ]
    }
   ],
   "source": [
    "def unique(l):\n",
    "    c=0\n",
    "    l.sort()\n",
    "    if l[0]!=l[1]:\n",
    "        print(l[0])\n",
    "        c+=1\n",
    "    if l[-1]!=l[-2]:\n",
    "        print(l[-1])\n",
    "        c+=1\n",
    "    for i in range(1,len(l)-1):\n",
    "        if (l[i-1]!=l[i] and l[i]!=l[i+1]):\n",
    "            print(l[i])\n",
    "            c+=1\n",
    "    return c       \n",
    "\n",
    "\n",
    "l = [36, 45, 58, 3, 74, 96, 64, 45, 31, 10, 24, 19, 33, 86, 99, 18, 63, 70, 85,\n",
    " 85, 63, 47, 56, 42, 70, 84, 88, 55, 20, 54, 8, 56, 51, 79, 81, 57, 37, 91,\n",
    " 1, 84, 84, 36, 66, 9, 89, 50, 42, 91, 50, 95, 90, 98, 39, 16, 82, 31, 92, 41,\n",
    " 45, 30, 66, 70, 34, 85, 94, 5, 3, 36, 72, 91, 84, 34, 87, 75, 53, 51, 20, 89, 51, 20]\n",
    "\n",
    "c=unique(l)\n",
    "print(c)"
   ]
  },
  {
   "cell_type": "markdown",
   "metadata": {},
   "source": [
    "6\\. Combination of functions\n",
    "\n",
    "Write two functions - one that returns the square of a number, and one that returns the cube. Now write a third function that returns the number raised to the 6th power using the two previous functions."
   ]
  },
  {
   "cell_type": "code",
   "execution_count": 5,
   "metadata": {},
   "outputs": [
    {
     "name": "stdout",
     "output_type": "stream",
     "text": [
      "64\n"
     ]
    }
   ],
   "source": [
    "def sqr(a):\n",
    "    a=a*a\n",
    "    return a\n",
    "def cube(a):\n",
    "    a=a*a*a\n",
    "    return a\n",
    "def six(a):\n",
    "    a=cube(sqr(a))\n",
    "    return a\n",
    "    \n",
    "    \n",
    "\n",
    "print(six(2))"
   ]
  },
  {
   "cell_type": "markdown",
   "metadata": {},
   "source": [
    "7\\. Cubes\n",
    "\n",
    "Create a list of the cubes of x for x in *[0, 10]* using:\n",
    "\n",
    "a) a for loop\n",
    "\n",
    "b) a list comprehension"
   ]
  },
  {
   "cell_type": "code",
   "execution_count": 11,
   "metadata": {},
   "outputs": [
    {
     "name": "stdout",
     "output_type": "stream",
     "text": [
      "0\n",
      "1\n",
      "8\n",
      "27\n",
      "64\n",
      "125\n",
      "216\n",
      "343\n",
      "512\n",
      "729\n",
      "1000\n",
      "0\n",
      "1\n",
      "8\n",
      "27\n",
      "64\n",
      "125\n",
      "216\n",
      "343\n",
      "512\n",
      "729\n",
      "1000\n"
     ]
    }
   ],
   "source": [
    "for x in range(0,11): print (x*x*x)\n",
    "\n",
    "l=[]\n",
    "for x in range(0,11):\n",
    "    l+=[x]\n",
    "for x in l:\n",
    "    print(x*x*x)\n"
   ]
  },
  {
   "cell_type": "markdown",
   "metadata": {},
   "source": [
    "8\\. Nested list comprehension\n",
    "\n",
    "A Pythagorean triple is an integer solution to the Pythagorean theorem $a^2+b^2=c^2$. The first Pythagorean triple is (3,4,5). Find and put in a tuple all unique Pythagorean triples for the positive integers a, b and c less than 100."
   ]
  },
  {
   "cell_type": "code",
   "execution_count": 89,
   "metadata": {},
   "outputs": [
    {
     "name": "stdout",
     "output_type": "stream",
     "text": [
      "1\n",
      "2\n",
      "2\n"
     ]
    },
    {
     "ename": "IndexError",
     "evalue": "list index out of range",
     "output_type": "error",
     "traceback": [
      "\u001b[0;31m---------------------------------------------------------------------------\u001b[0m",
      "\u001b[0;31mIndexError\u001b[0m                                Traceback (most recent call last)",
      "Input \u001b[0;32mIn [89]\u001b[0m, in \u001b[0;36m<cell line: 2>\u001b[0;34m()\u001b[0m\n\u001b[1;32m      8\u001b[0m                         \u001b[38;5;28mprint\u001b[39m(\u001b[38;5;28mlen\u001b[39m(t))\n\u001b[1;32m      9\u001b[0m                         \u001b[38;5;28;01mfor\u001b[39;00m i \u001b[38;5;129;01min\u001b[39;00m \u001b[38;5;28mrange\u001b[39m(\u001b[38;5;241m0\u001b[39m,\u001b[38;5;28mlen\u001b[39m(t)):\n\u001b[0;32m---> 10\u001b[0m                             \u001b[38;5;28;01mif\u001b[39;00m (p[\u001b[38;5;241m0\u001b[39m]\u001b[38;5;241m%\u001b[39m\u001b[43mt\u001b[49m\u001b[43m[\u001b[49m\u001b[43mi\u001b[49m\u001b[43m]\u001b[49m[\u001b[38;5;241m0\u001b[39m]\u001b[38;5;241m==\u001b[39m\u001b[38;5;241m0\u001b[39m \u001b[38;5;129;01mand\u001b[39;00m a\u001b[38;5;241m>\u001b[39m\u001b[38;5;241m3\u001b[39m):\n\u001b[1;32m     11\u001b[0m                                 t\u001b[38;5;241m.\u001b[39mpop()\n\u001b[1;32m     14\u001b[0m \u001b[38;5;28mprint\u001b[39m(t)\n",
      "\u001b[0;31mIndexError\u001b[0m: list index out of range"
     ]
    }
   ],
   "source": [
    "t=[]\n",
    "for a in range(1,101):\n",
    "       for b in range(a,101):\n",
    "             for c in range(b,101):\n",
    "                    if ((a*a)+(b*b)==(c*c)):\n",
    "                        p=(a,b,c)\n",
    "                        t+=[p]\n",
    "                        print(len(t))\n",
    "                        for i in range(0,len(t)):\n",
    "                            if (p[0]%t[i][0]==0 and a>3):\n",
    "                                t.pop()\n",
    "                              \n",
    "            \n",
    "print(t)             "
   ]
  },
  {
   "cell_type": "markdown",
   "metadata": {},
   "source": [
    "9\\. Normalization\n",
    "\n",
    "Write a function that takes a tuple of numbers and returns it with the entries normalized to one"
   ]
  },
  {
   "cell_type": "code",
   "execution_count": 45,
   "metadata": {},
   "outputs": [
    {
     "name": "stdout",
     "output_type": "stream",
     "text": [
      "(2, 6, 4, 9, 2)\n",
      "[0.1684303842133038, 0.5052911526399114, 0.3368607684266076, 0.7579367289598671, 0.1684303842133038]\n"
     ]
    }
   ],
   "source": [
    "def norm(t):\n",
    "    sum=0\n",
    "    norm=0\n",
    "    a=[]\n",
    "    for i in t:\n",
    "        sum+=i*i\n",
    "    nor=pow(sum,0.5)\n",
    "    for i in range(0,len(t)):\n",
    "        a+=[t[i]/nor]\n",
    "    return a\n",
    "\n",
    "t=(2,6,4,9,2)\n",
    "print(t)\n",
    "print(norm(t))\n",
    " "
   ]
  },
  {
   "cell_type": "code",
   "execution_count": null,
   "metadata": {},
   "outputs": [],
   "source": []
  }
 ],
 "metadata": {
  "kernelspec": {
   "display_name": "Python 3 (ipykernel)",
   "language": "python",
   "name": "python3"
  },
  "language_info": {
   "codemirror_mode": {
    "name": "ipython",
    "version": 3
   },
   "file_extension": ".py",
   "mimetype": "text/x-python",
   "name": "python",
   "nbconvert_exporter": "python",
   "pygments_lexer": "ipython3",
   "version": "3.10.4"
  }
 },
 "nbformat": 4,
 "nbformat_minor": 2
}
